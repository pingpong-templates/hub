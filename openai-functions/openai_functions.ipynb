{
 "cells": [
  {
   "cell_type": "markdown",
   "id": "16f2c32e",
   "metadata": {},
   "source": [
    "## Document Loading\n",
    "\n",
    "Load a blog post on agents."
   ]
  },
  {
   "cell_type": "code",
   "execution_count": 2,
   "id": "c9fadce0",
   "metadata": {},
   "outputs": [],
   "source": [
    "from langchain.document_loaders import WebBaseLoader\n",
    "loader = WebBaseLoader(\"https://lilianweng.github.io/posts/2023-06-23-agent/\")\n",
    "text = loader.load()"
   ]
  },
  {
   "cell_type": "markdown",
   "id": "4086be03",
   "metadata": {},
   "source": [
    "## Run Template\n",
    "\n",
    "\n",
    "As shown in the README, add template and start server:\n",
    "```\n",
    "langchain serve add openai-functions\n",
    "langchain start\n",
    "```\n",
    "\n",
    "We can now look at the endpoints:\n",
    "\n",
    "http://127.0.0.1:8000/docs#\n",
    "\n",
    "And specifically at our loaded template:\n",
    "\n",
    "http://127.0.0.1:8000/docs#/default/invoke_openai_functions_invoke_post\n",
    " \n",
    "We can also use remote runnable to call it."
   ]
  },
  {
   "cell_type": "code",
   "execution_count": 1,
   "id": "ed507784",
   "metadata": {},
   "outputs": [],
   "source": [
    "from langserve.client import RemoteRunnable\n",
    "extraction_model = RemoteRunnable('http://localhost:8000/openai-functions')"
   ]
  },
  {
   "cell_type": "markdown",
   "id": "68046695",
   "metadata": {},
   "source": [
    "The function call will perform tagging:\n",
    "\n",
    "* summarize\n",
    "* provide keywords\n",
    "* provide language"
   ]
  },
  {
   "cell_type": "code",
   "execution_count": 3,
   "id": "6dace748",
   "metadata": {},
   "outputs": [
    {
     "data": {
      "text/plain": [
       "AIMessage(content='', additional_kwargs={'function_call': {'name': 'Overview', 'arguments': '{\\n  \"summary\": \"This blog post discusses the concept of building autonomous agents powered by LLM (large language model). It covers the agent system overview, including planning, memory, and tool use. It also provides case studies and examples of LLM-powered agents. The challenges and references are also mentioned.\",\\n  \"language\": \"English\",\\n  \"keywords\": \"LLM, autonomous agents, planning, memory, tool use, case studies\"\\n}'}})"
      ]
     },
     "execution_count": 3,
     "metadata": {},
     "output_type": "execute_result"
    }
   ],
   "source": [
    "extraction_model.invoke(text[0].page_content[0:1500])"
   ]
  }
 ],
 "metadata": {
  "kernelspec": {
   "display_name": "langserve",
   "language": "python",
   "name": "langserve"
  },
  "language_info": {
   "codemirror_mode": {
    "name": "ipython",
    "version": 3
   },
   "file_extension": ".py",
   "mimetype": "text/x-python",
   "name": "python",
   "nbconvert_exporter": "python",
   "pygments_lexer": "ipython3",
   "version": "3.9.16"
  }
 },
 "nbformat": 4,
 "nbformat_minor": 5
}
