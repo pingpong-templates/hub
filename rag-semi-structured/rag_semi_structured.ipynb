{
 "cells": [
  {
   "cell_type": "markdown",
   "id": "30fc2c27",
   "metadata": {},
   "source": [
    "## Run Template\n",
    "\n",
    "As shown in the README, add template and start server:\n",
    "```\n",
    "langchain serve add rag-semi-structured\n",
    "langchain start\n",
    "```\n",
    "\n",
    "We can now look at the endpoints:\n",
    "\n",
    "http://127.0.0.1:8000/docs#\n",
    "\n",
    "And specifically at our loaded template:\n",
    "\n",
    "http://127.0.0.1:8000/docs#/default/invoke_rag_chroma_private_invoke_post\n",
    " \n",
    "We can also use remote runnable to call it:"
   ]
  },
  {
   "cell_type": "code",
   "execution_count": null,
   "id": "65f5b560",
   "metadata": {},
   "outputs": [],
   "source": [
    "from langserve.client import RemoteRunnable\n",
    "rag_app = RemoteRunnable('http://localhost:8000/rag-chroma-private')\n",
    "rag_app.invoke(\"How does agent memory work?\")"
   ]
  }
 ],
 "metadata": {
  "kernelspec": {
   "display_name": "Python 3 (ipykernel)",
   "language": "python",
   "name": "python3"
  },
  "language_info": {
   "codemirror_mode": {
    "name": "ipython",
    "version": 3
   },
   "file_extension": ".py",
   "mimetype": "text/x-python",
   "name": "python",
   "nbconvert_exporter": "python",
   "pygments_lexer": "ipython3",
   "version": "3.9.16"
  }
 },
 "nbformat": 4,
 "nbformat_minor": 5
}
